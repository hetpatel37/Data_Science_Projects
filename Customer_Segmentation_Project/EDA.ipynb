{
 "cells": [
  {
   "cell_type": "markdown",
   "id": "686aeb41-5b11-470a-af96-12ac46f37240",
   "metadata": {},
   "source": [
    "# <center> Customer Segmentation Project </center>"
   ]
  },
  {
   "cell_type": "markdown",
   "id": "c1896b0d-e425-4bd9-8de6-7fdc369033e9",
   "metadata": {},
   "source": [
    "## Data Wrangling"
   ]
  },
  {
   "cell_type": "code",
   "execution_count": 1,
   "id": "7d4a9448-a764-4815-8e6a-1c4eeb7d9490",
   "metadata": {},
   "outputs": [],
   "source": [
    "#import libraries\n",
    "import pandas as pd \n",
    "import numpy as np \n",
    "import matplotlib.pyplot as plt\n",
    "import seaborn as sns "
   ]
  },
  {
   "cell_type": "code",
   "execution_count": 2,
   "id": "6040406e-8015-4f95-9929-de2e53f97993",
   "metadata": {},
   "outputs": [
    {
     "data": {
      "text/html": [
       "<div>\n",
       "<style scoped>\n",
       "    .dataframe tbody tr th:only-of-type {\n",
       "        vertical-align: middle;\n",
       "    }\n",
       "\n",
       "    .dataframe tbody tr th {\n",
       "        vertical-align: top;\n",
       "    }\n",
       "\n",
       "    .dataframe thead th {\n",
       "        text-align: right;\n",
       "    }\n",
       "</style>\n",
       "<table border=\"1\" class=\"dataframe\">\n",
       "  <thead>\n",
       "    <tr style=\"text-align: right;\">\n",
       "      <th></th>\n",
       "      <th>customer_id</th>\n",
       "      <th>order_date</th>\n",
       "      <th>product_id</th>\n",
       "      <th>category_id</th>\n",
       "      <th>category_name</th>\n",
       "      <th>product_name</th>\n",
       "      <th>quantity</th>\n",
       "      <th>price</th>\n",
       "      <th>payment_method</th>\n",
       "      <th>city</th>\n",
       "      <th>review_score</th>\n",
       "      <th>gender</th>\n",
       "      <th>age</th>\n",
       "    </tr>\n",
       "  </thead>\n",
       "  <tbody>\n",
       "    <tr>\n",
       "      <th>0</th>\n",
       "      <td>13542</td>\n",
       "      <td>2024-12-17</td>\n",
       "      <td>784</td>\n",
       "      <td>10</td>\n",
       "      <td>Electronics</td>\n",
       "      <td>Smartphone</td>\n",
       "      <td>2</td>\n",
       "      <td>373.36</td>\n",
       "      <td>Credit Card</td>\n",
       "      <td>New Oliviaberg</td>\n",
       "      <td>1.0</td>\n",
       "      <td>F</td>\n",
       "      <td>56</td>\n",
       "    </tr>\n",
       "    <tr>\n",
       "      <th>1</th>\n",
       "      <td>23188</td>\n",
       "      <td>2024-06-01</td>\n",
       "      <td>682</td>\n",
       "      <td>50</td>\n",
       "      <td>Sports &amp; Outdoors</td>\n",
       "      <td>Soccer Ball</td>\n",
       "      <td>5</td>\n",
       "      <td>299.34</td>\n",
       "      <td>Credit Card</td>\n",
       "      <td>Port Matthew</td>\n",
       "      <td>NaN</td>\n",
       "      <td>M</td>\n",
       "      <td>59</td>\n",
       "    </tr>\n",
       "    <tr>\n",
       "      <th>2</th>\n",
       "      <td>55098</td>\n",
       "      <td>2025-02-04</td>\n",
       "      <td>684</td>\n",
       "      <td>50</td>\n",
       "      <td>Sports &amp; Outdoors</td>\n",
       "      <td>Tent</td>\n",
       "      <td>5</td>\n",
       "      <td>23.00</td>\n",
       "      <td>Credit Card</td>\n",
       "      <td>West Sarah</td>\n",
       "      <td>5.0</td>\n",
       "      <td>F</td>\n",
       "      <td>64</td>\n",
       "    </tr>\n",
       "    <tr>\n",
       "      <th>3</th>\n",
       "      <td>65208</td>\n",
       "      <td>2024-10-28</td>\n",
       "      <td>204</td>\n",
       "      <td>40</td>\n",
       "      <td>Books &amp; Stationery</td>\n",
       "      <td>Story Book</td>\n",
       "      <td>2</td>\n",
       "      <td>230.11</td>\n",
       "      <td>Bank Transfer</td>\n",
       "      <td>Hernandezburgh</td>\n",
       "      <td>5.0</td>\n",
       "      <td>M</td>\n",
       "      <td>34</td>\n",
       "    </tr>\n",
       "    <tr>\n",
       "      <th>4</th>\n",
       "      <td>63872</td>\n",
       "      <td>2024-05-10</td>\n",
       "      <td>202</td>\n",
       "      <td>20</td>\n",
       "      <td>Fashion</td>\n",
       "      <td>Skirt</td>\n",
       "      <td>4</td>\n",
       "      <td>176.72</td>\n",
       "      <td>Credit Card</td>\n",
       "      <td>Jenkinshaven</td>\n",
       "      <td>1.0</td>\n",
       "      <td>F</td>\n",
       "      <td>33</td>\n",
       "    </tr>\n",
       "  </tbody>\n",
       "</table>\n",
       "</div>"
      ],
      "text/plain": [
       "   customer_id  order_date  product_id  category_id       category_name  \\\n",
       "0        13542  2024-12-17         784           10         Electronics   \n",
       "1        23188  2024-06-01         682           50   Sports & Outdoors   \n",
       "2        55098  2025-02-04         684           50   Sports & Outdoors   \n",
       "3        65208  2024-10-28         204           40  Books & Stationery   \n",
       "4        63872  2024-05-10         202           20             Fashion   \n",
       "\n",
       "  product_name  quantity   price payment_method            city  review_score  \\\n",
       "0   Smartphone         2  373.36    Credit Card  New Oliviaberg           1.0   \n",
       "1  Soccer Ball         5  299.34    Credit Card    Port Matthew           NaN   \n",
       "2         Tent         5   23.00    Credit Card      West Sarah           5.0   \n",
       "3   Story Book         2  230.11  Bank Transfer  Hernandezburgh           5.0   \n",
       "4        Skirt         4  176.72    Credit Card    Jenkinshaven           1.0   \n",
       "\n",
       "  gender  age  \n",
       "0      F   56  \n",
       "1      M   59  \n",
       "2      F   64  \n",
       "3      M   34  \n",
       "4      F   33  "
      ]
     },
     "execution_count": 2,
     "metadata": {},
     "output_type": "execute_result"
    }
   ],
   "source": [
    "#load the dataset\n",
    "df = pd.read_csv('synthetic_online_retail_data.csv')\n",
    "df.head()"
   ]
  },
  {
   "cell_type": "code",
   "execution_count": 3,
   "id": "a7826096-3f70-4f6b-9df5-0603e2188b62",
   "metadata": {},
   "outputs": [
    {
     "name": "stdout",
     "output_type": "stream",
     "text": [
      "<class 'pandas.core.frame.DataFrame'>\n",
      "RangeIndex: 1000 entries, 0 to 999\n",
      "Data columns (total 13 columns):\n",
      " #   Column          Non-Null Count  Dtype  \n",
      "---  ------          --------------  -----  \n",
      " 0   customer_id     1000 non-null   int64  \n",
      " 1   order_date      1000 non-null   object \n",
      " 2   product_id      1000 non-null   int64  \n",
      " 3   category_id     1000 non-null   int64  \n",
      " 4   category_name   1000 non-null   object \n",
      " 5   product_name    1000 non-null   object \n",
      " 6   quantity        1000 non-null   int64  \n",
      " 7   price           1000 non-null   float64\n",
      " 8   payment_method  1000 non-null   object \n",
      " 9   city            1000 non-null   object \n",
      " 10  review_score    799 non-null    float64\n",
      " 11  gender          897 non-null    object \n",
      " 12  age             1000 non-null   int64  \n",
      "dtypes: float64(2), int64(5), object(6)\n",
      "memory usage: 101.7+ KB\n"
     ]
    }
   ],
   "source": [
    "#information about data \n",
    "df.info()"
   ]
  },
  {
   "cell_type": "code",
   "execution_count": 4,
   "id": "20e95afb-c63e-4887-842f-6af95dae37f5",
   "metadata": {},
   "outputs": [
    {
     "data": {
      "text/html": [
       "<div>\n",
       "<style scoped>\n",
       "    .dataframe tbody tr th:only-of-type {\n",
       "        vertical-align: middle;\n",
       "    }\n",
       "\n",
       "    .dataframe tbody tr th {\n",
       "        vertical-align: top;\n",
       "    }\n",
       "\n",
       "    .dataframe thead th {\n",
       "        text-align: right;\n",
       "    }\n",
       "</style>\n",
       "<table border=\"1\" class=\"dataframe\">\n",
       "  <thead>\n",
       "    <tr style=\"text-align: right;\">\n",
       "      <th></th>\n",
       "      <th>customer_id</th>\n",
       "      <th>product_id</th>\n",
       "      <th>category_id</th>\n",
       "      <th>quantity</th>\n",
       "      <th>price</th>\n",
       "      <th>review_score</th>\n",
       "      <th>age</th>\n",
       "    </tr>\n",
       "  </thead>\n",
       "  <tbody>\n",
       "    <tr>\n",
       "      <th>count</th>\n",
       "      <td>1000.000000</td>\n",
       "      <td>1000.000000</td>\n",
       "      <td>1000.000000</td>\n",
       "      <td>1000.000000</td>\n",
       "      <td>1000.000000</td>\n",
       "      <td>799.000000</td>\n",
       "      <td>1000.000000</td>\n",
       "    </tr>\n",
       "    <tr>\n",
       "      <th>mean</th>\n",
       "      <td>55490.723000</td>\n",
       "      <td>540.726000</td>\n",
       "      <td>30.030000</td>\n",
       "      <td>2.947000</td>\n",
       "      <td>251.850660</td>\n",
       "      <td>3.992491</td>\n",
       "      <td>46.382000</td>\n",
       "    </tr>\n",
       "    <tr>\n",
       "      <th>std</th>\n",
       "      <td>25910.185857</td>\n",
       "      <td>261.737704</td>\n",
       "      <td>14.370303</td>\n",
       "      <td>1.413573</td>\n",
       "      <td>139.194688</td>\n",
       "      <td>1.239469</td>\n",
       "      <td>16.569992</td>\n",
       "    </tr>\n",
       "    <tr>\n",
       "      <th>min</th>\n",
       "      <td>10201.000000</td>\n",
       "      <td>100.000000</td>\n",
       "      <td>10.000000</td>\n",
       "      <td>1.000000</td>\n",
       "      <td>10.720000</td>\n",
       "      <td>1.000000</td>\n",
       "      <td>18.000000</td>\n",
       "    </tr>\n",
       "    <tr>\n",
       "      <th>25%</th>\n",
       "      <td>33857.000000</td>\n",
       "      <td>311.750000</td>\n",
       "      <td>20.000000</td>\n",
       "      <td>2.000000</td>\n",
       "      <td>128.525000</td>\n",
       "      <td>3.000000</td>\n",
       "      <td>32.000000</td>\n",
       "    </tr>\n",
       "    <tr>\n",
       "      <th>50%</th>\n",
       "      <td>54619.500000</td>\n",
       "      <td>542.500000</td>\n",
       "      <td>30.000000</td>\n",
       "      <td>3.000000</td>\n",
       "      <td>250.220000</td>\n",
       "      <td>4.000000</td>\n",
       "      <td>47.000000</td>\n",
       "    </tr>\n",
       "    <tr>\n",
       "      <th>75%</th>\n",
       "      <td>77848.500000</td>\n",
       "      <td>770.750000</td>\n",
       "      <td>40.000000</td>\n",
       "      <td>4.000000</td>\n",
       "      <td>366.467500</td>\n",
       "      <td>5.000000</td>\n",
       "      <td>61.000000</td>\n",
       "    </tr>\n",
       "    <tr>\n",
       "      <th>max</th>\n",
       "      <td>99923.000000</td>\n",
       "      <td>995.000000</td>\n",
       "      <td>50.000000</td>\n",
       "      <td>5.000000</td>\n",
       "      <td>499.500000</td>\n",
       "      <td>5.000000</td>\n",
       "      <td>75.000000</td>\n",
       "    </tr>\n",
       "  </tbody>\n",
       "</table>\n",
       "</div>"
      ],
      "text/plain": [
       "        customer_id   product_id  category_id     quantity        price  \\\n",
       "count   1000.000000  1000.000000  1000.000000  1000.000000  1000.000000   \n",
       "mean   55490.723000   540.726000    30.030000     2.947000   251.850660   \n",
       "std    25910.185857   261.737704    14.370303     1.413573   139.194688   \n",
       "min    10201.000000   100.000000    10.000000     1.000000    10.720000   \n",
       "25%    33857.000000   311.750000    20.000000     2.000000   128.525000   \n",
       "50%    54619.500000   542.500000    30.000000     3.000000   250.220000   \n",
       "75%    77848.500000   770.750000    40.000000     4.000000   366.467500   \n",
       "max    99923.000000   995.000000    50.000000     5.000000   499.500000   \n",
       "\n",
       "       review_score          age  \n",
       "count    799.000000  1000.000000  \n",
       "mean       3.992491    46.382000  \n",
       "std        1.239469    16.569992  \n",
       "min        1.000000    18.000000  \n",
       "25%        3.000000    32.000000  \n",
       "50%        4.000000    47.000000  \n",
       "75%        5.000000    61.000000  \n",
       "max        5.000000    75.000000  "
      ]
     },
     "execution_count": 4,
     "metadata": {},
     "output_type": "execute_result"
    }
   ],
   "source": [
    "df.describe()"
   ]
  },
  {
   "cell_type": "code",
   "execution_count": 5,
   "id": "dda7685d-b51b-4310-b24a-7406c1f7ad7d",
   "metadata": {},
   "outputs": [
    {
     "data": {
      "text/plain": [
       "customer_id         0\n",
       "order_date          0\n",
       "product_id          0\n",
       "category_id         0\n",
       "category_name       0\n",
       "product_name        0\n",
       "quantity            0\n",
       "price               0\n",
       "payment_method      0\n",
       "city                0\n",
       "review_score      201\n",
       "gender            103\n",
       "age                 0\n",
       "dtype: int64"
      ]
     },
     "execution_count": 5,
     "metadata": {},
     "output_type": "execute_result"
    }
   ],
   "source": [
    "df.isnull().sum()"
   ]
  },
  {
   "cell_type": "code",
   "execution_count": 6,
   "id": "37a57d71-823c-4520-885b-90aaf43d7178",
   "metadata": {},
   "outputs": [
    {
     "data": {
      "text/plain": [
       "review_score\n",
       "5.0    382\n",
       "4.0    198\n",
       "3.0    109\n",
       "1.0     59\n",
       "2.0     51\n",
       "Name: count, dtype: int64"
      ]
     },
     "execution_count": 6,
     "metadata": {},
     "output_type": "execute_result"
    }
   ],
   "source": [
    "df['review_score'].value_counts()"
   ]
  },
  {
   "cell_type": "code",
   "execution_count": 7,
   "id": "2d44bed1-2687-4a04-abc5-75340b4cf5ba",
   "metadata": {},
   "outputs": [
    {
     "data": {
      "text/plain": [
       "np.float64(4.0)"
      ]
     },
     "execution_count": 7,
     "metadata": {},
     "output_type": "execute_result"
    }
   ],
   "source": [
    "#replace missing review score with mean review score\n",
    "mean = np.ceil(df['review_score'].mean())\n",
    "mean\n"
   ]
  },
  {
   "cell_type": "code",
   "execution_count": 8,
   "id": "efd21dee-9988-460a-8b14-ae75ace32491",
   "metadata": {},
   "outputs": [
    {
     "name": "stderr",
     "output_type": "stream",
     "text": [
      "C:\\Users\\Dell\\AppData\\Local\\Temp\\ipykernel_24064\\3725231224.py:1: FutureWarning: A value is trying to be set on a copy of a DataFrame or Series through chained assignment using an inplace method.\n",
      "The behavior will change in pandas 3.0. This inplace method will never work because the intermediate object on which we are setting values always behaves as a copy.\n",
      "\n",
      "For example, when doing 'df[col].method(value, inplace=True)', try using 'df.method({col: value}, inplace=True)' or df[col] = df[col].method(value) instead, to perform the operation inplace on the original object.\n",
      "\n",
      "\n",
      "  df['review_score'].replace(np.nan, mean, inplace=True)\n"
     ]
    }
   ],
   "source": [
    "df['review_score'].replace(np.nan, mean, inplace=True) "
   ]
  },
  {
   "cell_type": "code",
   "execution_count": 9,
   "id": "577fb658-3663-4724-872b-5d4567a822db",
   "metadata": {},
   "outputs": [
    {
     "data": {
      "text/plain": [
       "np.int64(0)"
      ]
     },
     "execution_count": 9,
     "metadata": {},
     "output_type": "execute_result"
    }
   ],
   "source": [
    "#check missing value in review score\n",
    "df['review_score'].isnull().sum()"
   ]
  },
  {
   "cell_type": "code",
   "execution_count": 10,
   "id": "54d4e5cc-f96f-4165-883c-1c8804fc8cf1",
   "metadata": {},
   "outputs": [
    {
     "data": {
      "text/plain": [
       "gender\n",
       "M    457\n",
       "F    440\n",
       "Name: count, dtype: int64"
      ]
     },
     "execution_count": 10,
     "metadata": {},
     "output_type": "execute_result"
    }
   ],
   "source": [
    "#how many male and female in data\n",
    "df['gender'].value_counts()"
   ]
  },
  {
   "cell_type": "code",
   "execution_count": 11,
   "id": "be95b23e-b850-4a97-a1c3-b4b2b555e6d6",
   "metadata": {},
   "outputs": [
    {
     "data": {
      "text/html": [
       "<div>\n",
       "<style scoped>\n",
       "    .dataframe tbody tr th:only-of-type {\n",
       "        vertical-align: middle;\n",
       "    }\n",
       "\n",
       "    .dataframe tbody tr th {\n",
       "        vertical-align: top;\n",
       "    }\n",
       "\n",
       "    .dataframe thead th {\n",
       "        text-align: right;\n",
       "    }\n",
       "</style>\n",
       "<table border=\"1\" class=\"dataframe\">\n",
       "  <thead>\n",
       "    <tr style=\"text-align: right;\">\n",
       "      <th></th>\n",
       "      <th>customer_id</th>\n",
       "      <th>order_date</th>\n",
       "      <th>product_id</th>\n",
       "      <th>category_id</th>\n",
       "      <th>category_name</th>\n",
       "      <th>product_name</th>\n",
       "      <th>quantity</th>\n",
       "      <th>price</th>\n",
       "      <th>payment_method</th>\n",
       "      <th>city</th>\n",
       "      <th>review_score</th>\n",
       "      <th>gender</th>\n",
       "      <th>age</th>\n",
       "    </tr>\n",
       "  </thead>\n",
       "  <tbody>\n",
       "    <tr>\n",
       "      <th>0</th>\n",
       "      <td>13542</td>\n",
       "      <td>2024-12-17</td>\n",
       "      <td>784</td>\n",
       "      <td>10</td>\n",
       "      <td>Electronics</td>\n",
       "      <td>Smartphone</td>\n",
       "      <td>2</td>\n",
       "      <td>373.36</td>\n",
       "      <td>Credit Card</td>\n",
       "      <td>New Oliviaberg</td>\n",
       "      <td>1.0</td>\n",
       "      <td>F</td>\n",
       "      <td>56</td>\n",
       "    </tr>\n",
       "    <tr>\n",
       "      <th>1</th>\n",
       "      <td>23188</td>\n",
       "      <td>2024-06-01</td>\n",
       "      <td>682</td>\n",
       "      <td>50</td>\n",
       "      <td>Sports &amp; Outdoors</td>\n",
       "      <td>Soccer Ball</td>\n",
       "      <td>5</td>\n",
       "      <td>299.34</td>\n",
       "      <td>Credit Card</td>\n",
       "      <td>Port Matthew</td>\n",
       "      <td>4.0</td>\n",
       "      <td>M</td>\n",
       "      <td>59</td>\n",
       "    </tr>\n",
       "    <tr>\n",
       "      <th>2</th>\n",
       "      <td>55098</td>\n",
       "      <td>2025-02-04</td>\n",
       "      <td>684</td>\n",
       "      <td>50</td>\n",
       "      <td>Sports &amp; Outdoors</td>\n",
       "      <td>Tent</td>\n",
       "      <td>5</td>\n",
       "      <td>23.00</td>\n",
       "      <td>Credit Card</td>\n",
       "      <td>West Sarah</td>\n",
       "      <td>5.0</td>\n",
       "      <td>F</td>\n",
       "      <td>64</td>\n",
       "    </tr>\n",
       "    <tr>\n",
       "      <th>3</th>\n",
       "      <td>65208</td>\n",
       "      <td>2024-10-28</td>\n",
       "      <td>204</td>\n",
       "      <td>40</td>\n",
       "      <td>Books &amp; Stationery</td>\n",
       "      <td>Story Book</td>\n",
       "      <td>2</td>\n",
       "      <td>230.11</td>\n",
       "      <td>Bank Transfer</td>\n",
       "      <td>Hernandezburgh</td>\n",
       "      <td>5.0</td>\n",
       "      <td>M</td>\n",
       "      <td>34</td>\n",
       "    </tr>\n",
       "    <tr>\n",
       "      <th>4</th>\n",
       "      <td>63872</td>\n",
       "      <td>2024-05-10</td>\n",
       "      <td>202</td>\n",
       "      <td>20</td>\n",
       "      <td>Fashion</td>\n",
       "      <td>Skirt</td>\n",
       "      <td>4</td>\n",
       "      <td>176.72</td>\n",
       "      <td>Credit Card</td>\n",
       "      <td>Jenkinshaven</td>\n",
       "      <td>1.0</td>\n",
       "      <td>F</td>\n",
       "      <td>33</td>\n",
       "    </tr>\n",
       "  </tbody>\n",
       "</table>\n",
       "</div>"
      ],
      "text/plain": [
       "   customer_id  order_date  product_id  category_id       category_name  \\\n",
       "0        13542  2024-12-17         784           10         Electronics   \n",
       "1        23188  2024-06-01         682           50   Sports & Outdoors   \n",
       "2        55098  2025-02-04         684           50   Sports & Outdoors   \n",
       "3        65208  2024-10-28         204           40  Books & Stationery   \n",
       "4        63872  2024-05-10         202           20             Fashion   \n",
       "\n",
       "  product_name  quantity   price payment_method            city  review_score  \\\n",
       "0   Smartphone         2  373.36    Credit Card  New Oliviaberg           1.0   \n",
       "1  Soccer Ball         5  299.34    Credit Card    Port Matthew           4.0   \n",
       "2         Tent         5   23.00    Credit Card      West Sarah           5.0   \n",
       "3   Story Book         2  230.11  Bank Transfer  Hernandezburgh           5.0   \n",
       "4        Skirt         4  176.72    Credit Card    Jenkinshaven           1.0   \n",
       "\n",
       "  gender  age  \n",
       "0      F   56  \n",
       "1      M   59  \n",
       "2      F   64  \n",
       "3      M   34  \n",
       "4      F   33  "
      ]
     },
     "execution_count": 11,
     "metadata": {},
     "output_type": "execute_result"
    }
   ],
   "source": [
    "df.head()"
   ]
  },
  {
   "cell_type": "code",
   "execution_count": 12,
   "id": "5ee3fea6-1cc3-4ba8-a238-49a33eb534ec",
   "metadata": {},
   "outputs": [
    {
     "data": {
      "text/plain": [
       "(897, 13)"
      ]
     },
     "execution_count": 12,
     "metadata": {},
     "output_type": "execute_result"
    }
   ],
   "source": [
    "#drop missing value rows\n",
    "df = df.dropna()\n",
    "df.shape"
   ]
  },
  {
   "cell_type": "code",
   "execution_count": 13,
   "id": "d1778832-7154-4c9d-81c3-2509d898cc03",
   "metadata": {},
   "outputs": [],
   "source": [
    "# df.to_csv('clean_retail_data.csv')"
   ]
  },
  {
   "cell_type": "markdown",
   "id": "c54b45a5-673b-4044-8063-d0fd99fdb2d2",
   "metadata": {},
   "source": [
    "## Exploratory Data Analysis"
   ]
  },
  {
   "cell_type": "code",
   "execution_count": 14,
   "id": "3f27c4b5-fee9-49ef-add6-c6cd9640448e",
   "metadata": {},
   "outputs": [
    {
     "data": {
      "text/html": [
       "<div>\n",
       "<style scoped>\n",
       "    .dataframe tbody tr th:only-of-type {\n",
       "        vertical-align: middle;\n",
       "    }\n",
       "\n",
       "    .dataframe tbody tr th {\n",
       "        vertical-align: top;\n",
       "    }\n",
       "\n",
       "    .dataframe thead th {\n",
       "        text-align: right;\n",
       "    }\n",
       "</style>\n",
       "<table border=\"1\" class=\"dataframe\">\n",
       "  <thead>\n",
       "    <tr style=\"text-align: right;\">\n",
       "      <th></th>\n",
       "      <th>customer_id</th>\n",
       "      <th>product_id</th>\n",
       "      <th>category_id</th>\n",
       "      <th>quantity</th>\n",
       "      <th>price</th>\n",
       "      <th>review_score</th>\n",
       "      <th>age</th>\n",
       "    </tr>\n",
       "  </thead>\n",
       "  <tbody>\n",
       "    <tr>\n",
       "      <th>count</th>\n",
       "      <td>897.000000</td>\n",
       "      <td>897.000000</td>\n",
       "      <td>897.000000</td>\n",
       "      <td>897.000000</td>\n",
       "      <td>897.000000</td>\n",
       "      <td>897.000000</td>\n",
       "      <td>897.000000</td>\n",
       "    </tr>\n",
       "    <tr>\n",
       "      <th>mean</th>\n",
       "      <td>55769.782609</td>\n",
       "      <td>542.783724</td>\n",
       "      <td>29.799331</td>\n",
       "      <td>2.943144</td>\n",
       "      <td>254.225585</td>\n",
       "      <td>3.981048</td>\n",
       "      <td>46.585284</td>\n",
       "    </tr>\n",
       "    <tr>\n",
       "      <th>std</th>\n",
       "      <td>25817.538244</td>\n",
       "      <td>261.422764</td>\n",
       "      <td>14.360003</td>\n",
       "      <td>1.418193</td>\n",
       "      <td>138.787820</td>\n",
       "      <td>1.126327</td>\n",
       "      <td>16.576114</td>\n",
       "    </tr>\n",
       "    <tr>\n",
       "      <th>min</th>\n",
       "      <td>10211.000000</td>\n",
       "      <td>100.000000</td>\n",
       "      <td>10.000000</td>\n",
       "      <td>1.000000</td>\n",
       "      <td>10.720000</td>\n",
       "      <td>1.000000</td>\n",
       "      <td>18.000000</td>\n",
       "    </tr>\n",
       "    <tr>\n",
       "      <th>25%</th>\n",
       "      <td>35088.000000</td>\n",
       "      <td>314.000000</td>\n",
       "      <td>20.000000</td>\n",
       "      <td>2.000000</td>\n",
       "      <td>134.120000</td>\n",
       "      <td>4.000000</td>\n",
       "      <td>32.000000</td>\n",
       "    </tr>\n",
       "    <tr>\n",
       "      <th>50%</th>\n",
       "      <td>54710.000000</td>\n",
       "      <td>547.000000</td>\n",
       "      <td>30.000000</td>\n",
       "      <td>3.000000</td>\n",
       "      <td>255.900000</td>\n",
       "      <td>4.000000</td>\n",
       "      <td>47.000000</td>\n",
       "    </tr>\n",
       "    <tr>\n",
       "      <th>75%</th>\n",
       "      <td>77850.000000</td>\n",
       "      <td>773.000000</td>\n",
       "      <td>40.000000</td>\n",
       "      <td>4.000000</td>\n",
       "      <td>367.510000</td>\n",
       "      <td>5.000000</td>\n",
       "      <td>61.000000</td>\n",
       "    </tr>\n",
       "    <tr>\n",
       "      <th>max</th>\n",
       "      <td>99909.000000</td>\n",
       "      <td>995.000000</td>\n",
       "      <td>50.000000</td>\n",
       "      <td>5.000000</td>\n",
       "      <td>499.500000</td>\n",
       "      <td>5.000000</td>\n",
       "      <td>75.000000</td>\n",
       "    </tr>\n",
       "  </tbody>\n",
       "</table>\n",
       "</div>"
      ],
      "text/plain": [
       "        customer_id  product_id  category_id    quantity       price  \\\n",
       "count    897.000000  897.000000   897.000000  897.000000  897.000000   \n",
       "mean   55769.782609  542.783724    29.799331    2.943144  254.225585   \n",
       "std    25817.538244  261.422764    14.360003    1.418193  138.787820   \n",
       "min    10211.000000  100.000000    10.000000    1.000000   10.720000   \n",
       "25%    35088.000000  314.000000    20.000000    2.000000  134.120000   \n",
       "50%    54710.000000  547.000000    30.000000    3.000000  255.900000   \n",
       "75%    77850.000000  773.000000    40.000000    4.000000  367.510000   \n",
       "max    99909.000000  995.000000    50.000000    5.000000  499.500000   \n",
       "\n",
       "       review_score         age  \n",
       "count    897.000000  897.000000  \n",
       "mean       3.981048   46.585284  \n",
       "std        1.126327   16.576114  \n",
       "min        1.000000   18.000000  \n",
       "25%        4.000000   32.000000  \n",
       "50%        4.000000   47.000000  \n",
       "75%        5.000000   61.000000  \n",
       "max        5.000000   75.000000  "
      ]
     },
     "execution_count": 14,
     "metadata": {},
     "output_type": "execute_result"
    }
   ],
   "source": [
    "df.describe()"
   ]
  },
  {
   "cell_type": "code",
   "execution_count": 15,
   "id": "8d3dc818-60a8-4299-ba0f-8a9138c12318",
   "metadata": {},
   "outputs": [
    {
     "data": {
      "text/html": [
       "<div>\n",
       "<style scoped>\n",
       "    .dataframe tbody tr th:only-of-type {\n",
       "        vertical-align: middle;\n",
       "    }\n",
       "\n",
       "    .dataframe tbody tr th {\n",
       "        vertical-align: top;\n",
       "    }\n",
       "\n",
       "    .dataframe thead th {\n",
       "        text-align: right;\n",
       "    }\n",
       "</style>\n",
       "<table border=\"1\" class=\"dataframe\">\n",
       "  <thead>\n",
       "    <tr style=\"text-align: right;\">\n",
       "      <th></th>\n",
       "      <th>customer_id</th>\n",
       "      <th>order_date</th>\n",
       "      <th>product_id</th>\n",
       "      <th>category_id</th>\n",
       "      <th>category_name</th>\n",
       "      <th>product_name</th>\n",
       "      <th>quantity</th>\n",
       "      <th>price</th>\n",
       "      <th>payment_method</th>\n",
       "      <th>city</th>\n",
       "      <th>review_score</th>\n",
       "      <th>gender</th>\n",
       "      <th>age</th>\n",
       "    </tr>\n",
       "  </thead>\n",
       "  <tbody>\n",
       "    <tr>\n",
       "      <th>0</th>\n",
       "      <td>13542</td>\n",
       "      <td>2024-12-17</td>\n",
       "      <td>784</td>\n",
       "      <td>10</td>\n",
       "      <td>Electronics</td>\n",
       "      <td>Smartphone</td>\n",
       "      <td>2</td>\n",
       "      <td>373.36</td>\n",
       "      <td>Credit Card</td>\n",
       "      <td>New Oliviaberg</td>\n",
       "      <td>1.0</td>\n",
       "      <td>F</td>\n",
       "      <td>56</td>\n",
       "    </tr>\n",
       "    <tr>\n",
       "      <th>1</th>\n",
       "      <td>23188</td>\n",
       "      <td>2024-06-01</td>\n",
       "      <td>682</td>\n",
       "      <td>50</td>\n",
       "      <td>Sports &amp; Outdoors</td>\n",
       "      <td>Soccer Ball</td>\n",
       "      <td>5</td>\n",
       "      <td>299.34</td>\n",
       "      <td>Credit Card</td>\n",
       "      <td>Port Matthew</td>\n",
       "      <td>4.0</td>\n",
       "      <td>M</td>\n",
       "      <td>59</td>\n",
       "    </tr>\n",
       "    <tr>\n",
       "      <th>2</th>\n",
       "      <td>55098</td>\n",
       "      <td>2025-02-04</td>\n",
       "      <td>684</td>\n",
       "      <td>50</td>\n",
       "      <td>Sports &amp; Outdoors</td>\n",
       "      <td>Tent</td>\n",
       "      <td>5</td>\n",
       "      <td>23.00</td>\n",
       "      <td>Credit Card</td>\n",
       "      <td>West Sarah</td>\n",
       "      <td>5.0</td>\n",
       "      <td>F</td>\n",
       "      <td>64</td>\n",
       "    </tr>\n",
       "    <tr>\n",
       "      <th>3</th>\n",
       "      <td>65208</td>\n",
       "      <td>2024-10-28</td>\n",
       "      <td>204</td>\n",
       "      <td>40</td>\n",
       "      <td>Books &amp; Stationery</td>\n",
       "      <td>Story Book</td>\n",
       "      <td>2</td>\n",
       "      <td>230.11</td>\n",
       "      <td>Bank Transfer</td>\n",
       "      <td>Hernandezburgh</td>\n",
       "      <td>5.0</td>\n",
       "      <td>M</td>\n",
       "      <td>34</td>\n",
       "    </tr>\n",
       "    <tr>\n",
       "      <th>4</th>\n",
       "      <td>63872</td>\n",
       "      <td>2024-05-10</td>\n",
       "      <td>202</td>\n",
       "      <td>20</td>\n",
       "      <td>Fashion</td>\n",
       "      <td>Skirt</td>\n",
       "      <td>4</td>\n",
       "      <td>176.72</td>\n",
       "      <td>Credit Card</td>\n",
       "      <td>Jenkinshaven</td>\n",
       "      <td>1.0</td>\n",
       "      <td>F</td>\n",
       "      <td>33</td>\n",
       "    </tr>\n",
       "  </tbody>\n",
       "</table>\n",
       "</div>"
      ],
      "text/plain": [
       "   customer_id  order_date  product_id  category_id       category_name  \\\n",
       "0        13542  2024-12-17         784           10         Electronics   \n",
       "1        23188  2024-06-01         682           50   Sports & Outdoors   \n",
       "2        55098  2025-02-04         684           50   Sports & Outdoors   \n",
       "3        65208  2024-10-28         204           40  Books & Stationery   \n",
       "4        63872  2024-05-10         202           20             Fashion   \n",
       "\n",
       "  product_name  quantity   price payment_method            city  review_score  \\\n",
       "0   Smartphone         2  373.36    Credit Card  New Oliviaberg           1.0   \n",
       "1  Soccer Ball         5  299.34    Credit Card    Port Matthew           4.0   \n",
       "2         Tent         5   23.00    Credit Card      West Sarah           5.0   \n",
       "3   Story Book         2  230.11  Bank Transfer  Hernandezburgh           5.0   \n",
       "4        Skirt         4  176.72    Credit Card    Jenkinshaven           1.0   \n",
       "\n",
       "  gender  age  \n",
       "0      F   56  \n",
       "1      M   59  \n",
       "2      F   64  \n",
       "3      M   34  \n",
       "4      F   33  "
      ]
     },
     "execution_count": 15,
     "metadata": {},
     "output_type": "execute_result"
    }
   ],
   "source": [
    "df.head()"
   ]
  },
  {
   "cell_type": "code",
   "execution_count": 16,
   "id": "ce44de76-fb50-45d7-b0be-5106caae8f90",
   "metadata": {},
   "outputs": [
    {
     "data": {
      "image/png": "[encoded data removed]",
      "text/plain": [
       "<Figure size 1000x500 with 1 Axes>"
      ]
     },
     "metadata": {},
     "output_type": "display_data"
    }
   ],
   "source": [
    "plt.figure(figsize=(10,5))\n",
    "sns.countplot(data=df, x='category_name')\n",
    "plt.tight_layout()"
   ]
  },
  {
   "cell_type": "code",
   "execution_count": 17,
   "id": "e8795c3c-e01d-4049-bde2-31246123dc9e",
   "metadata": {},
   "outputs": [
    {
     "data": {
      "image/png": "[encoded data removed]",
      "text/plain": [
       "<Figure size 1000x500 with 1 Axes>"
      ]
     },
     "metadata": {},
     "output_type": "display_data"
    }
   ],
   "source": [
    "plt.figure(figsize=(10,5))\n",
    "sns.countplot(data=df, x='category_name', hue='gender')\n",
    "plt.tight_layout()"
   ]
  },
  {
   "cell_type": "markdown",
   "id": "5f6cfe87-a43d-41ed-9bd9-765e827d1ef6",
   "metadata": {},
   "source": [
    "- more male customers in 'sports & outdoor' and 'Books & stationary' category while \n",
    "more female customers in 'Fashion' category"
   ]
  },
  {
   "cell_type": "code",
   "execution_count": 18,
   "id": "1b92b9f3-78ef-418d-86f1-1402e5136b6c",
   "metadata": {},
   "outputs": [
    {
     "data": {
      "image/png": "[encoded data removed]",
      "text/plain": [
       "<Figure size 1000x500 with 1 Axes>"
      ]
     },
     "metadata": {},
     "output_type": "display_data"
    }
   ],
   "source": [
    "plt.figure(figsize=(10,5))\n",
    "sns.countplot(data=df, x='product_name')\n",
    "plt.xticks(rotation=60)\n",
    "plt.show()"
   ]
  },
  {
   "cell_type": "markdown",
   "id": "5e8e20f7-7201-4ebf-93de-5299b8bcab4d",
   "metadata": {},
   "source": [
    "- yoga mat is highest selling product"
   ]
  },
  {
   "cell_type": "code",
   "execution_count": 19,
   "id": "900488ac-8e64-46f1-9139-b8b28b05b6f6",
   "metadata": {},
   "outputs": [
    {
     "data": {
      "text/plain": [
       "<Axes: xlabel='count', ylabel='payment_method'>"
      ]
     },
     "execution_count": 19,
     "metadata": {},
     "output_type": "execute_result"
    },
    {
     "data": {
      "image/png": "[encoded data removed]",
      "text/plain": [
       "<Figure size 640x480 with 1 Axes>"
      ]
     },
     "metadata": {},
     "output_type": "display_data"
    }
   ],
   "source": [
    "sns.countplot(data=df, y='payment_method')"
   ]
  },
  {
   "cell_type": "code",
   "execution_count": 26,
   "id": "de7eb801-fbc4-4f04-8d02-715d5fa69987",
   "metadata": {},
   "outputs": [
    {
     "data": {
      "text/plain": [
       "<Axes: xlabel='count', ylabel='payment_method'>"
      ]
     },
     "execution_count": 26,
     "metadata": {},
     "output_type": "execute_result"
    },
    {
     "data": {
      "image/png": "[encoded data removed]",
      "text/plain": [
       "<Figure size 640x480 with 1 Axes>"
      ]
     },
     "metadata": {},
     "output_type": "display_data"
    }
   ],
   "source": [
    "sns.countplot(data=df, y='payment_method', hue='gender')"
   ]
  },
  {
   "cell_type": "code",
   "execution_count": 20,
   "id": "18e81af1-e089-41b8-b9cb-28215ebf56c4",
   "metadata": {},
   "outputs": [
    {
     "data": {
      "text/plain": [
       "<Axes: xlabel='age', ylabel='Count'>"
      ]
     },
     "execution_count": 20,
     "metadata": {},
     "output_type": "execute_result"
    },
    {
     "data": {
      "image/png": "[encoded data removed]",
      "text/plain": [
       "<Figure size 640x480 with 1 Axes>"
      ]
     },
     "metadata": {},
     "output_type": "display_data"
    }
   ],
   "source": [
    "sns.histplot(data=df, x='age')"
   ]
  },
  {
   "cell_type": "code",
   "execution_count": 21,
   "id": "5ec18275-3c0c-4d4b-8223-d4c4c3e44d1f",
   "metadata": {},
   "outputs": [
    {
     "data": {
      "text/plain": [
       "<Axes: xlabel='price', ylabel='Count'>"
      ]
     },
     "execution_count": 21,
     "metadata": {},
     "output_type": "execute_result"
    },
    {
     "data": {
      "image/png": "[encoded data removed]",
      "text/plain": [
       "<Figure size 640x480 with 1 Axes>"
      ]
     },
     "metadata": {},
     "output_type": "display_data"
    }
   ],
   "source": [
    "sns.histplot(data=df, x='price')"
   ]
  },
  {
   "cell_type": "code",
   "execution_count": 29,
   "id": "eeee673d-d89d-4f01-b2ae-a1e3144eff55",
   "metadata": {},
   "outputs": [
    {
     "data": {
      "text/plain": [
       "<Axes: xlabel='gender', ylabel='count'>"
      ]
     },
     "execution_count": 29,
     "metadata": {},
     "output_type": "execute_result"
    },
    {
     "data": {
      "image/png": "[encoded data removed]",
      "text/plain": [
       "<Figure size 640x480 with 1 Axes>"
      ]
     },
     "metadata": {},
     "output_type": "display_data"
    }
   ],
   "source": [
    "sns.countplot(data=df, x='gender')"
   ]
  },
  {
   "cell_type": "code",
   "execution_count": null,
   "id": "02ea319c-5e0a-41d5-b3fd-f5b8239cea3c",
   "metadata": {},
   "outputs": [],
   "source": []
  }
 ],
 "metadata": {
  "kernelspec": {
   "display_name": "Python 3 (ipykernel)",
   "language": "python",
   "name": "python3"
  },
  "language_info": {
   "codemirror_mode": {
    "name": "ipython",
    "version": 3
   },
   "file_extension": ".py",
   "mimetype": "text/x-python",
   "name": "python",
   "nbconvert_exporter": "python",
   "pygments_lexer": "ipython3",
   "version": "3.11.9"
  }
 },
 "nbformat": 4,
 "nbformat_minor": 5
}
